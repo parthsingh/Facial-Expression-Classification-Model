{
  "cells": [
    {
      "cell_type": "code",
      "execution_count": 1,
      "metadata": {
        "colab": {
          "base_uri": "https://localhost:8080/"
        },
        "id": "cLiLNJn68q3c",
        "outputId": "86a00ba6-9aaf-4d34-87b9-5aee20817423"
      },
      "outputs": [
        {
          "name": "stdout",
          "output_type": "stream",
          "text": [
            "Mounted at /content/gdrive\n",
            "total 164245\n",
            "-rw------- 1 root root     30623 Dec  6 02:29 sample-submission.csv\n",
            "-rw------- 1 root root  33075636 Dec  6 02:29 test_data.csv\n",
            "-rw------- 1 root root 135047556 Dec  6 02:29 train_data.csv\n",
            "-rw------- 1 root root     32350 Dec  6 02:29 train_target.csv\n"
          ]
        }
      ],
      "source": [
        "# Use Google Drive as Data Storage\n",
        "from google.colab import drive\n",
        "drive.mount('/content/gdrive')\n",
        "\n",
        "!ls -l ./gdrive/MyDrive/Colab\\ Notebooks/datasets"
      ]
    },
    {
      "cell_type": "code",
      "execution_count": 84,
      "metadata": {
        "id": "x8iPf_B2G4lb"
      },
      "outputs": [],
      "source": [
        "import numpy as np\n",
        "import torch\n",
        "from torch.utils.data import DataLoader, Dataset\n",
        "from torch.utils.data import TensorDataset\n",
        "from torchvision import transforms\n",
        "from PIL import Image\n",
        "from sklearn.model_selection import train_test_split"
      ]
    },
    {
      "cell_type": "code",
      "execution_count": 85,
      "metadata": {
        "id": "Tx0tQJZq9plL"
      },
      "outputs": [],
      "source": [
        "import pandas as pd\n",
        "train_data_raw = pd.read_csv('/content/gdrive/MyDrive/Colab Notebooks/datasets/train_data.csv', header=None).to_numpy()\n",
        "\n",
        "\n",
        "train_target_raw = pd.read_csv('/content/gdrive/MyDrive/Colab Notebooks/datasets/train_target.csv', header=None).to_numpy().flatten()\n",
        "\n",
        "train_data = torch.from_numpy(train_data_raw).type(torch.float32).view(-1, 1, 48, 48)\n",
        "train_target = torch.from_numpy(train_target_raw).type(dtype=torch.long)\n",
        "\n",
        "test_data = pd.read_csv('/content/gdrive/MyDrive/Colab Notebooks/datasets/test_data.csv', header=None)\n",
        "\n",
        "train_loader = DataLoader(TensorDataset(train_data,train_target), batch_size = 32, shuffle = True)\n",
        "\n"
      ]
    },
    {
      "cell_type": "code",
      "execution_count": 86,
      "metadata": {
        "id": "kuojN8p_JG3J"
      },
      "outputs": [],
      "source": [
        "import torch\n",
        "import torchvision\n",
        "import torchvision.transforms as transforms"
      ]
    },
    {
      "cell_type": "code",
      "execution_count": 87,
      "metadata": {
        "id": "HaMw79ZsJHSK"
      },
      "outputs": [],
      "source": [
        "import torch.nn as nn\n",
        "import torch.optim as optim\n",
        "class FacialClassifier(nn.Module):\n",
        "    def __init__(self):\n",
        "        super(FacialClassifier, self).__init__()\n",
        "        self.conv1 = nn.Conv2d(1, 32, kernel_size=3, padding=1)\n",
        "        self.bn1 = nn.BatchNorm2d(32)\n",
        "        self.relu1 = nn.ReLU()\n",
        "        self.pool1 = nn.MaxPool2d(kernel_size=2, stride=2)\n",
        "\n",
        "        self.conv2 = nn.Conv2d(32, 64, kernel_size=3, padding=1)\n",
        "        self.bn2 = nn.BatchNorm2d(64)\n",
        "        self.relu2 = nn.ReLU()\n",
        "        self.pool2 = nn.MaxPool2d(kernel_size=2, stride=2)\n",
        "\n",
        "        self.conv3 = nn.Conv2d(64, 128, kernel_size=3, padding=1)\n",
        "        self.bn3 = nn.BatchNorm2d(128)\n",
        "        self.relu3 = nn.ReLU()\n",
        "        self.pool3 = nn.MaxPool2d(kernel_size=2, stride=2)\n",
        "\n",
        "        self.flatten = nn.Flatten()\n",
        "        self.fc1 = nn.Linear(128 * 6 * 6, 128)\n",
        "        self.relu4 = nn.ReLU()\n",
        "        self.fc2 = nn.Linear(128, 3)\n",
        "\n",
        "    def forward(self, x):\n",
        "        x = self.pool1(self.relu1(self.bn1(self.conv1(x))))\n",
        "        x = self.pool2(self.relu2(self.bn2(self.conv2(x))))\n",
        "        x = self.pool3(self.relu3(self.bn3(self.conv3(x))))\n",
        "        x = self.flatten(x)\n",
        "        x = self.relu4(self.fc1(x))\n",
        "        x = self.fc2(x)\n",
        "        return x"
      ]
    },
    {
      "cell_type": "code",
      "execution_count": 89,
      "metadata": {
        "colab": {
          "base_uri": "https://localhost:8080/"
        },
        "id": "z4dY6zhjJHUV",
        "outputId": "d8f33d1f-d4fe-4a6a-fdbd-fa2d53723ef5"
      },
      "outputs": [
        {
          "data": {
            "text/plain": [
              "FacialClassifier(\n",
              "  (conv1): Conv2d(1, 32, kernel_size=(3, 3), stride=(1, 1), padding=(1, 1))\n",
              "  (bn1): BatchNorm2d(32, eps=1e-05, momentum=0.1, affine=True, track_running_stats=True)\n",
              "  (relu1): ReLU()\n",
              "  (pool1): MaxPool2d(kernel_size=2, stride=2, padding=0, dilation=1, ceil_mode=False)\n",
              "  (conv2): Conv2d(32, 64, kernel_size=(3, 3), stride=(1, 1), padding=(1, 1))\n",
              "  (bn2): BatchNorm2d(64, eps=1e-05, momentum=0.1, affine=True, track_running_stats=True)\n",
              "  (relu2): ReLU()\n",
              "  (pool2): MaxPool2d(kernel_size=2, stride=2, padding=0, dilation=1, ceil_mode=False)\n",
              "  (conv3): Conv2d(64, 128, kernel_size=(3, 3), stride=(1, 1), padding=(1, 1))\n",
              "  (bn3): BatchNorm2d(128, eps=1e-05, momentum=0.1, affine=True, track_running_stats=True)\n",
              "  (relu3): ReLU()\n",
              "  (pool3): MaxPool2d(kernel_size=2, stride=2, padding=0, dilation=1, ceil_mode=False)\n",
              "  (flatten): Flatten(start_dim=1, end_dim=-1)\n",
              "  (fc1): Linear(in_features=4608, out_features=128, bias=True)\n",
              "  (relu4): ReLU()\n",
              "  (fc2): Linear(in_features=128, out_features=3, bias=True)\n",
              ")"
            ]
          },
          "execution_count": 89,
          "metadata": {},
          "output_type": "execute_result"
        }
      ],
      "source": [
        "# Initialize the model, loss function, and optimizer\n",
        "model = FacialClassifier()\n",
        "criterion = nn.CrossEntropyLoss()\n",
        "optimizer = optim.Adam(model.parameters(), lr=0.001)\n",
        "\n",
        "# Training loop\n",
        "num_epochs = 8\n",
        "device = torch.device(\"cuda\" if torch.cuda.is_available() else \"cpu\")\n",
        "model.to(device)"
      ]
    },
    {
      "cell_type": "code",
      "execution_count": 90,
      "metadata": {
        "colab": {
          "base_uri": "https://localhost:8080/"
        },
        "id": "T86mSYxYM1oM",
        "outputId": "ee85ee39-c129-424e-a364-f5c316c84314"
      },
      "outputs": [
        {
          "name": "stdout",
          "output_type": "stream",
          "text": [
            "Epoch [1/8], Loss: 1.0520\n",
            "Epoch [2/8], Loss: 0.9725\n",
            "Epoch [3/8], Loss: 0.4506\n",
            "Epoch [4/8], Loss: 0.4478\n",
            "Epoch [5/8], Loss: 0.3086\n",
            "Epoch [6/8], Loss: 0.4544\n",
            "Epoch [7/8], Loss: 0.3169\n",
            "Epoch [8/8], Loss: 0.4083\n"
          ]
        }
      ],
      "source": [
        "from torch.optim import lr_scheduler\n",
        "\n",
        "#Define a learning rate scheduler\n",
        "scheduler = lr_scheduler.StepLR(optimizer, step_size=2, gamma=0.1)\n",
        "\n",
        "for epoch in range(num_epochs):\n",
        "    model.train()\n",
        "    for batch in train_loader:\n",
        "        imgs, targets = batch\n",
        "        imgs = imgs.view(imgs.shape[0], 1, 48, 48)  # Reshape to (batch_size, channels, height, width)\n",
        "        imgs, targets = imgs.to(device), targets.to(device)\n",
        "\n",
        "        optimizer.zero_grad()\n",
        "        outputs = model(imgs)\n",
        "        loss = criterion(outputs, targets)\n",
        "        loss.backward()\n",
        "        optimizer.step()\n",
        "\n",
        "\n",
        "    scheduler.step()\n",
        "\n",
        "    print(f\"Epoch [{epoch + 1}/{num_epochs}], Loss: {loss.item():.4f}\")"
      ]
    },
    {
      "cell_type": "code",
      "execution_count": 91,
      "metadata": {
        "id": "LNDB2Wo2Rdg3"
      },
      "outputs": [],
      "source": [
        "torch.save(model.state_dict(), \"facial_classifier.pth\")\n",
        "test_data = torch.from_numpy(test_data.to_numpy()).type(torch.float32).view(-1, 1, 48, 48)"
      ]
    },
    {
      "cell_type": "code",
      "execution_count": 92,
      "metadata": {
        "id": "_Ru96ur9Rkke"
      },
      "outputs": [],
      "source": [
        "model.eval()\n",
        "all_predictions = []\n",
        "\n",
        "with torch.no_grad():\n",
        "    for batch in DataLoader(test_data, batch_size=32, shuffle=False):\n",
        "        imgs = batch.to(device)\n",
        "        predictions = model(imgs)\n",
        "        _, predicted_labels = torch.max(predictions, 1)\n",
        "        all_predictions.extend(predicted_labels.cpu().numpy())\n",
        "\n",
        "# Save predictions to a CSV file in the specified format\n",
        "submission_df = pd.DataFrame({'Id': range(len(all_predictions)), 'Category': all_predictions})\n",
        "submission_df.to_csv('/content/gdrive/MyDrive/Colab Notebooks/datasets/predictions6.csv', index=False)"
      ]
    }
  ],
  "metadata": {
    "colab": {
      "provenance": [],
      "toc_visible": true
    },
    "kernelspec": {
      "display_name": "Python 3",
      "name": "python3"
    },
    "language_info": {
      "name": "python"
    }
  },
  "nbformat": 4,
  "nbformat_minor": 0
}
